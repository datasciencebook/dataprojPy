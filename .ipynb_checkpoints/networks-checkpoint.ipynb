{
 "cells": [
  {
   "cell_type": "markdown",
   "metadata": {},
   "source": [
    "# A network from the web\n",
    "## step by step"
   ]
  },
  {
   "cell_type": "markdown",
   "metadata": {},
   "source": [
    "1) Get data from web:"
   ]
  },
  {
   "cell_type": "code",
   "execution_count": null,
   "metadata": {
    "collapsed": true
   },
   "outputs": [],
   "source": [
    "wikiLink='http://en.wikipedia.org/wiki/List_of_border_wars'\n",
    "identification = { 'User-Agent' : 'Mozilla/5.0'} \n",
    "from requests import get\n",
    "wikiPage = get(wikiLink, headers=identification)\n",
    "from bs4 import BeautifulSoup as BS\n",
    "wikiPage = BS(wikiPage.content,'html.parser')\n",
    "wikiTables = wikiPage.findAll('table', {'class': 'sortable wikitable'})\n",
    "\n",
    "import networkx as net\n",
    "warNet=net.Graph()\n",
    "\n",
    "#This will allow me to make edges when reading set of nodes:\n",
    "from itertools import combinations\n",
    "\n",
    "# Do this for each table\n",
    "for eachTable in wikiTables: \n",
    "    # Get all the rows in the table\n",
    "    allRows=eachTable.find_all(\"tr\")\n",
    "    # Do this for each row, BUT the first (the column names).\n",
    "    for eachRow in range(1,len(allRows)):\n",
    "        # Get all the cells\n",
    "        aRow = allRows[eachRow].find_all(\"td\")\n",
    "                   \n",
    "        # Getting the name of the countries \n",
    "        # in the current conflict as a list\n",
    "        countries=[txt.get_text() for txt in aRow[3].find_all('a')]\n",
    "        \n",
    "        # Cleaning one case, and rebuilding the list\n",
    "        countries=['China' if country==\"PRC\" or \n",
    "                        country==\"People's Republic of China\" \n",
    "                        else country for country in countries]\n",
    "        \n",
    "        # Getting the link to eah country webpage\n",
    "        linksEachCountry=['http://en.wikipedia.org'+               \\\n",
    "           country.get('href') for country in aRow[3].find_all('a')] \n",
    "        \n",
    "        # Preparing to save the coordinates of the country:\n",
    "        coords=[]     \n",
    "        \n",
    "        # For every link collected \n",
    "        for link in linksEachCountry:\n",
    "            # some cleaning:\n",
    "            if link=='http://en.wikipedia.org/wiki/Soviet_Union':\n",
    "                link='http://en.wikipedia.org/wiki/Russia'\n",
    "            web=BS(get(link).content,'html.parser')\n",
    "            # get and unpack the coordinates\n",
    "            lat,lon=web.find_all(\"span\",{'class':'geo'})[0].    \\\n",
    "                                          string.split('; ')\n",
    "            # adding the coordinates to list\n",
    "            coords.append((float(lat),float(lon))) \n",
    "\n",
    "        # pair up countries with its coordinates:\n",
    "        countryInfo=zip(countries,coords)            \n",
    "            \n",
    "        #populating graph\n",
    "        ## adding nodes    \n",
    "        for country,(lat,lon)in countryInfo:\n",
    "            warNet.add_node(country, latitude=lat,longitude=lon)\n",
    "        ## creating edges:\n",
    "        for pair in combinations (countries,2):\n",
    "            warNet.add_edge(*pair)"
   ]
  },
  {
   "cell_type": "markdown",
   "metadata": {},
   "source": [
    "2) Saving the Network in a local file:"
   ]
  },
  {
   "cell_type": "code",
   "execution_count": null,
   "metadata": {
    "collapsed": true
   },
   "outputs": [],
   "source": [
    "net.write_graphml(warNet, \"warNet.graphml\",encoding='utf-8')"
   ]
  },
  {
   "cell_type": "markdown",
   "metadata": {},
   "source": [
    "3) Calling the file just created:"
   ]
  },
  {
   "cell_type": "code",
   "execution_count": null,
   "metadata": {
    "collapsed": true
   },
   "outputs": [],
   "source": [
    "warNetData=net.read_graphml(\"warNet.graphml\")"
   ]
  },
  {
   "cell_type": "markdown",
   "metadata": {},
   "source": [
    "4) Plot the Network"
   ]
  },
  {
   "cell_type": "code",
   "execution_count": null,
   "metadata": {
    "collapsed": false
   },
   "outputs": [],
   "source": [
    "%matplotlib inline\n",
    "X=net.get_node_attributes(warNetData,'longitude')\n",
    "Y=net.get_node_attributes(warNetData,'latitude')\n",
    "countryNames=warNetData.nodes()\n",
    "posNet=dict((C,(X[C],Y[C])) for C in countryNames) \n",
    "net.draw(warNetData,pos=posNet,with_labels=True)"
   ]
  },
  {
   "cell_type": "markdown",
   "metadata": {},
   "source": [
    "5) Nicer plot, using robinson projection:"
   ]
  },
  {
   "cell_type": "code",
   "execution_count": null,
   "metadata": {
    "collapsed": false
   },
   "outputs": [],
   "source": [
    "import matplotlib.pyplot as plt\n",
    "from mpl_toolkits.basemap import Basemap as Basemap\n",
    "\n",
    "plt.figure(figsize=(20,10))\n",
    "\n",
    "r = Basemap(projection='robin',lon_0=0,resolution='l')        \n",
    "posRobin=dict((country,( r(X[country],Y[country]))) for country in countryNames)\n",
    "net.draw_networkx_nodes(warNetData, posRobin,with_labels=True,node_size=50)\n",
    "net.draw_networkx_edges(warNetData, posRobin,with_labels=False,width=3,edge_color='yellow')\n",
    "\n",
    "r.drawlsmask() # background layer land-sea map\n",
    "\n",
    "plt.title('Historical border conflicts (Robinson projection)')\n",
    "plt.show()"
   ]
  },
  {
   "cell_type": "code",
   "execution_count": null,
   "metadata": {
    "collapsed": true
   },
   "outputs": [],
   "source": []
  }
 ],
 "metadata": {
  "kernelspec": {
   "display_name": "Python 2",
   "language": "python",
   "name": "python2"
  },
  "language_info": {
   "codemirror_mode": {
    "name": "ipython",
    "version": 2
   },
   "file_extension": ".py",
   "mimetype": "text/x-python",
   "name": "python",
   "nbconvert_exporter": "python",
   "pygments_lexer": "ipython2",
   "version": "2.7.11"
  }
 },
 "nbformat": 4,
 "nbformat_minor": 0
}
